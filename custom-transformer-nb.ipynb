{
 "cells": [
  {
   "cell_type": "code",
   "execution_count": 9,
   "metadata": {},
   "outputs": [],
   "source": [
    "import pandas as pd\n",
    "from sklearn.base import BaseEstimator, TransformerMixin\n",
    "\n",
    "# TODO: Modify this list to include the numerical columns\n",
    "NUMERICAL_VARS = ['pclass', 'age', 'sibsp', 'parch', 'fare']\n",
    "\n"
   ]
  },
  {
   "cell_type": "code",
   "execution_count": 10,
   "metadata": {},
   "outputs": [],
   "source": [
    "# Crear custom transformer\n",
    "\n",
    "\n",
    "class MissingIndicator(BaseEstimator, TransformerMixin):\n",
    "\n",
    "    def __init__(self, variables):\n",
    "        if not isinstance(variables, list):\n",
    "            self.variables = [variables]\n",
    "        else:\n",
    "            self.variables = variables\n",
    "\n",
    "    def fit(self, X, y):\n",
    "        return self\n",
    "\n",
    "    def transform(self, X):\n",
    "        # TODO: Put your code here\n",
    "        X = X.copy()\n",
    "        for var in self.variables:\n",
    "            X[var + '_nan'] = pd.isnull(X[var]).astype(int)\n",
    "        return X"
   ]
  },
  {
   "cell_type": "code",
   "execution_count": 11,
   "metadata": {},
   "outputs": [],
   "source": [
    "# Leer el csv sin aplicar transformaciones\n",
    "df = pd.read_csv('C:/Users/francisco.figueroa/javier-mlops-sesion6/raw-data.csv')"
   ]
  },
  {
   "cell_type": "code",
   "execution_count": 12,
   "metadata": {},
   "outputs": [
    {
     "name": "stdout",
     "output_type": "stream",
     "text": [
      "   pclass  survived     sex      age  sibsp  parch      fare cabin embarked  \\\n",
      "0       1         1  female  29.0000      0      0  211.3375    B5        S   \n",
      "1       1         1    male   0.9167      1      2  151.5500   C22        S   \n",
      "2       1         0  female   2.0000      1      2  151.5500   C22        S   \n",
      "3       1         0    male  30.0000      1      2  151.5500   C22        S   \n",
      "4       1         0  female  25.0000      1      2  151.5500   C22        S   \n",
      "5       1         1    male  48.0000      0      0   26.5500   E12        S   \n",
      "6       1         1  female  63.0000      1      0   77.9583    D7        S   \n",
      "7       1         0    male  39.0000      0      0    0.0000   A36        S   \n",
      "8       1         1  female  53.0000      2      0   51.4792  C101        S   \n",
      "9       1         0    male  71.0000      0      0   49.5042   NaN        C   \n",
      "\n",
      "    title  \n",
      "0    Miss  \n",
      "1  Master  \n",
      "2    Miss  \n",
      "3      Mr  \n",
      "4     Mrs  \n",
      "5      Mr  \n",
      "6    Miss  \n",
      "7      Mr  \n",
      "8     Mrs  \n",
      "9      Mr  \n"
     ]
    }
   ],
   "source": [
    "# Imprimir los primeros datos\n",
    "print(df.head(10))"
   ]
  },
  {
   "cell_type": "code",
   "execution_count": 13,
   "metadata": {},
   "outputs": [],
   "source": [
    "mi = MissingIndicator(variables=NUMERICAL_VARS)\n",
    "# Aplicar las transformaciones\n",
    "df_mi = mi.transform(df)"
   ]
  },
  {
   "cell_type": "code",
   "execution_count": 14,
   "metadata": {},
   "outputs": [
    {
     "name": "stdout",
     "output_type": "stream",
     "text": [
      "    pclass  survived     sex      age  sibsp  parch      fare cabin embarked  \\\n",
      "0        1         1  female  29.0000      0      0  211.3375    B5        S   \n",
      "1        1         1    male   0.9167      1      2  151.5500   C22        S   \n",
      "2        1         0  female   2.0000      1      2  151.5500   C22        S   \n",
      "3        1         0    male  30.0000      1      2  151.5500   C22        S   \n",
      "4        1         0  female  25.0000      1      2  151.5500   C22        S   \n",
      "5        1         1    male  48.0000      0      0   26.5500   E12        S   \n",
      "6        1         1  female  63.0000      1      0   77.9583    D7        S   \n",
      "7        1         0    male  39.0000      0      0    0.0000   A36        S   \n",
      "8        1         1  female  53.0000      2      0   51.4792  C101        S   \n",
      "9        1         0    male  71.0000      0      0   49.5042   NaN        C   \n",
      "10       1         0    male  47.0000      1      0  227.5250   C62        C   \n",
      "11       1         1  female  18.0000      1      0  227.5250   C62        C   \n",
      "12       1         1  female  24.0000      0      0   69.3000   B35        C   \n",
      "13       1         1  female  26.0000      0      0   78.8500   NaN        S   \n",
      "14       1         1    male  80.0000      0      0   30.0000   A23        S   \n",
      "15       1         0    male      NaN      0      0   25.9250   NaN        S   \n",
      "16       1         0    male  24.0000      0      1  247.5208   B58        C   \n",
      "17       1         1  female  50.0000      0      1  247.5208   B58        C   \n",
      "18       1         1  female  32.0000      0      0   76.2917   D15        C   \n",
      "19       1         0    male  36.0000      0      0   75.2417    C6        C   \n",
      "\n",
      "     title  pclass_nan  age_nan  sibsp_nan  parch_nan  fare_nan  \n",
      "0     Miss           0        0          0          0         0  \n",
      "1   Master           0        0          0          0         0  \n",
      "2     Miss           0        0          0          0         0  \n",
      "3       Mr           0        0          0          0         0  \n",
      "4      Mrs           0        0          0          0         0  \n",
      "5       Mr           0        0          0          0         0  \n",
      "6     Miss           0        0          0          0         0  \n",
      "7       Mr           0        0          0          0         0  \n",
      "8      Mrs           0        0          0          0         0  \n",
      "9       Mr           0        0          0          0         0  \n",
      "10   Other           0        0          0          0         0  \n",
      "11     Mrs           0        0          0          0         0  \n",
      "12   Other           0        0          0          0         0  \n",
      "13    Miss           0        0          0          0         0  \n",
      "14      Mr           0        0          0          0         0  \n",
      "15      Mr           0        1          0          0         0  \n",
      "16      Mr           0        0          0          0         0  \n",
      "17     Mrs           0        0          0          0         0  \n",
      "18    Miss           0        0          0          0         0  \n",
      "19      Mr           0        0          0          0         0  \n"
     ]
    }
   ],
   "source": [
    "# Imprimir resultados despues de las transformaciones\n",
    "print(df_mi.head(20))"
   ]
  }
 ],
 "metadata": {
  "kernelspec": {
   "display_name": "venv_310",
   "language": "python",
   "name": "python3"
  },
  "language_info": {
   "codemirror_mode": {
    "name": "ipython",
    "version": 3
   },
   "file_extension": ".py",
   "mimetype": "text/x-python",
   "name": "python",
   "nbconvert_exporter": "python",
   "pygments_lexer": "ipython3",
   "version": "3.10.9"
  },
  "orig_nbformat": 4
 },
 "nbformat": 4,
 "nbformat_minor": 2
}
